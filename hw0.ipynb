{
 "cells": [
  {
   "cell_type": "markdown",
   "metadata": {
    "colab_type": "text",
    "id": "1UKOQcXNtJ8e"
   },
   "source": [
    "$\\qquad$ $\\qquad$$\\qquad$  **TDA 231 Machine Learning: Homework 0** <br />\n",
    "$\\qquad$ $\\qquad$$\\qquad$ **Goal: Introduction to Probability, Ipython Primer**<br />\n",
    "$\\qquad$ $\\qquad$$\\qquad$                   **Grader: Aristide, Mikael** <br />\n",
    "$\\qquad$ $\\qquad$$\\qquad$                     **Due Date: 26/3** <br />\n",
    "$\\qquad$ $\\qquad$$\\qquad$                   **Submitted by: Name, Personal no., email** <br />"
   ]
  },
  {
   "cell_type": "markdown",
   "metadata": {
    "colab_type": "text",
    "id": "PQ8gZxqWtJ8h"
   },
   "source": [
    "General guidelines:\n",
    "* All solutions to theoretical problems, can be submitted as a single file named *report.pdf*. They can also be submitted in this ipynb notebook, but equations wherever required, should be formatted using LaTeX math-mode.\n",
    "* All discussion regarding practical problems, along with solutions and plots should be specified here itself. We will not generate the solutions/plots again by running your code.\n",
    "* Your name, personal number and email address should be specified above and also in your file *report.pdf*.\n",
    "* All datasets can be downloaded from the course website.\n",
    "* All tables and other additional information should be included."
   ]
  },
  {
   "cell_type": "markdown",
   "metadata": {
    "colab_type": "text",
    "id": "vrnQ98KgtJ8i"
   },
   "source": [
    "**Jupyter/IPython Notebook** is a collaborative Python web-based environment. This will be used in all our Homework Assignments except for Neural Network assignment which is be based on matlab. It is installed in the halls ES61-ES62, E-studio and MT9. You can also use google-colab: https://research.google.com/colaboratory/faq.html \n",
    "to run these notebooks without having to download, install, or do anything on your own computer other than a browser.\n",
    "Some useful resources:\n",
    "1. https://jupyter-notebook-beginner-guide.readthedocs.io/en/latest/ (Quick-start guide)\n",
    "2. https://www.kdnuggets.com/2016/04/top-10-ipython-nb-tutorials.html\n",
    "3. http://data-blog.udacity.com/posts/2016/10/latex-primer/ (latex-primer)\n",
    "4. http://jupyter-notebook.readthedocs.io/en/stable/examples/Notebook/Working%20With%20Markdown%20Cells.html (markdown)"
   ]
  },
  {
   "cell_type": "markdown",
   "metadata": {
    "colab_type": "text",
    "id": "fl1Lu21rtJ8k"
   },
   "source": [
    "# Theoretical problems\n",
    "\n",
    "## [Bayes Rule, 5 points]\n",
    "\n",
    "After your yearly checkup, the doctor has bad news and good news. The\n",
    "bad news is that you tested positive for a very serious cancer and\n",
    "that the test is 99% accurate i.e. the probability of testing\n",
    "positive given you have the disease is 0.99. The probability of\n",
    "testing negative if you don’t have the disease is the same. The good news is that it is a very rare condition affecting only 1 in 10,000 people. What is the probability you actually have the disease? (Show all calculations and the final result.)\n",
    "\n",
    "### Answer\n",
    "Denoting P(A): probability of carrying the disease, P(B): probability of testing positive for the disease, P(A|B): probability of carrying the disease if testing positive for it. Furthermore, we denote the latter's reciprocal P(B|A): probability of testing positive if one is carrying the disease. We want to use these in Bayes Theorem:\n",
    "\n",
    "\\begin{equation}\n",
    "P(A|B) = \\frac{P(A)P(B|A)}{P(B)}\n",
    "\\end{equation}\n",
    "\n",
    "but we only have values for two of the three variables in the right hand side of this equation: $P(A) = 1/10000 = 0.0001$ and $P(B|A) = 0.99$. The former comes from the population statistics of the disease and the latter is the accuracy of the test for true positives. But we still need a value for $P(B)$. We can get it by summing up all the different ways of B occuring. B can happen through to ways, A occuring or A not occuring (the complement of A, denoted $A'$), both with their respective probability. In mathematical terms:\n",
    "\n",
    "\\begin{equation}\n",
    "P(B) = P(B|A)P(A) + P(B|A')P(A')\n",
    "\\end{equation}\n",
    "\n",
    "P(B|A) we know to be 0.99. P(A) is still 0.0001. P(B|A') is the probability of a false postive, given implicitly in the problem statement as 1 - 0.99 = 0.01. Finally P(A') is the prior probability of not carrying the disease and it's value is 1 - 1/10000 = 0.9999. Plugging these values into the equation for P(B), we get:\n",
    "\n",
    "\\begin{equation}\n",
    "P(B) = 0.99\\cdot0.0001 + 0.1 \\cdot0.9999 \\approx 0.01\n",
    "\\end{equation}\n",
    "\n",
    "Using this in Bayes Theorem (first equation in this section, sorry about the equation numbering not working) we get a value for $P(A|B) \\approx 0.0098$, or in words just shy of 1% risk of having the disease given a positive test.\n",
    "\n",
    "## [Correlation and Independence, 5 points]\n",
    "\n",
    "Let $X$ be a continuous variable, uniformly distributed in $[-1, +1]$ and let $Y := X^2$. Clearly $Y$ is not independent of $X$ -- in fact it is uniquely determined by $X$. However, show that $\\mbox{cov}(X, Y ) = 0$.\n",
    "\n",
    "### Answer\n",
    "For a uniformly distributed stochastic variable on an interval [a, b], the epected value is equal to $(a+b)/2$, so we get $E[X] = (1+(-1))/2 = 0$. Since $Y$ is determined by $X$, we can simplify the sought-after value $\\mbox{cov}(X, Y )$ as $\\mbox{cov}(X, X ^2 )$. We use the definition of the covariance $\\mbox{cov}(X, Y) = E[(X - E[X])(Y - E[Y])]$. We combine these two expressions to get:\n",
    "\n",
    "$$ \\mbox{cov}(X, X^2 ) = E[(X - E[X])(X^2 - E[X^2])] $$\n",
    "\n",
    "We cross multiply the two parenthesis to get:\n",
    "\n",
    "$$ \\mbox{cov}(X, X^2 ) = E[(X\\cdot X^2 - - X E[X^2] - X^2 E[X] + E[X]E[X^2])]$$\n",
    "\n",
    "Inserting $E[X] = 0$ removes some of the terms:\n",
    "\n",
    "$$ \\mbox{cov}(X, X^2 ) = E[(X^3 - X E[X^2])]$$\n",
    "\n",
    "Now we can use the linear property of the expected value to get:\n",
    "\n",
    "$$ \\mbox{cov}(X, X^2 ) = E[X^3] - E[X E[X^2]]$$\n",
    "$$ \\mbox{cov}(X, X^2 ) = E[X^3] - E[X]*E[X^2]$$\n",
    "\n",
    "And again we use the fact that $E[X] = 0$ to get\n",
    "\n",
    "$$ \\mbox{cov}(X, X^2 ) = E[X^3]$$\n",
    "\n",
    "X^3 is an odd function and integrating an odd function on a symmetric interval results in 0. This means that:\n",
    "\n",
    "$$ \\mbox{cov}(X, Y) = 0$$\n",
    "\n",
    "## [Setting hyperparameters, 3 points]\n",
    "\n",
    "Suppose $\\theta \\sim \\mbox{Beta}(a,b)$ and we believe $E[\\theta] = m$\n",
    "and $\\mbox{var}(\\theta) = v$. How should the parameters $a$ and $b$ be\n",
    "set to be consistent with this? Confirm that this gives the same values claimed in the lecture.\n",
    "\n",
    "### Answer\n",
    "For a Beta distributed variable $\\theta \\sim \\mbox{Beta}(a,b)$ the expected value is:\n",
    "\n",
    "$$ E[\\theta] =  \\frac{1}{1 + \\frac{b}{a}} $$\n",
    "\n",
    "To get $E[\\theta] = m$, we set\n",
    "\n",
    "$$ m = \\frac{a}{a+b} \\Rightarrow a+b = \\frac{a}{m} \\Rightarrow b = \\frac{a}{m} - a $$\n",
    "\n",
    "The variance is defined as:\n",
    "\n",
    "$$ Var[\\theta] = \\frac{a b}{(a + b)^2 (a + b +1)} $$\n",
    "\n",
    "We plug in the expression for $a+b$ form above and get: \n",
    "\n",
    "$$ v = \\frac{a b}{\\left(\\frac{a}{m} \\right)^2 \\left(\\frac{a}{m}+1\\right)} $$\n",
    "\n",
    "$$ \\frac{a ^2}{m^2} \\left(\\frac{a}{m}+1\\right) = \\frac{a b}{v} $$\n",
    "\n",
    "$$ \\frac{a^3}{m^3} + \\frac{a^2}{m^2}= \\frac{a b}{v} $$\n",
    "\n",
    "In the next step we can safely assume that $a \\not = 0$ since the beta distribution is only defined for $a, b > 0$:\n",
    "\n",
    "$$ \\frac{a^2}{m^3} + \\frac{a}{m^2}= \\frac{b}{v} $$\n",
    "\n",
    "Isolating b:\n",
    "\n",
    "$$ v \\left(\\frac{a^2}{m^3} + \\frac{a}{m^2}\\right)= b = \\frac{a}{m} - a$$\n",
    "\n",
    "Removing redundant factors of a with the same argument as before yields:\n",
    "\n",
    "$$ v \\left(\\frac{a}{m^3} + \\frac{1}{m^2}\\right)= \\frac{1}{m} - 1$$\n",
    "\n",
    "Simplifying and isolating a:\n",
    "\n",
    "$$ v \\left(\\frac{a}{m^3} \\right) = \\frac{1}{m} - 1 - v \\left(\\frac{1}{m^2}\\right)$$\n",
    "$$ a \\left(\\frac{v}{m^3} \\right) = \\frac{m-m^2-v}{m^2} $$\n",
    "$$ a  = \\frac{m^3}{v} \\frac{m-m^2-v}{m^2} $$\n",
    "$$ a  = \\frac{m}{v} (m-m^2-v) $$\n",
    "$$ a  = \\frac{m^2-m^3-vm}{v} $$\n",
    "\n",
    "Now we use the expression from before to get b:\n",
    "\n",
    "$$ b = \\frac{a}{m} - a $$\n",
    "$$ b = \\frac{\\frac{m^2-m^3-vm}{v}}{m} - \\frac{m^2-m^3-vm}{v} $$\n",
    "$$ b = \\frac{m^2-m^3-vm}{vm} - \\frac{m^2-m^3-vm}{v} $$\n",
    "$$ b = \\frac{m-m^2-v}{v} - \\frac{m^2-m^3-vm}{v} $$\n",
    "$$ b = \\frac{m-m^2-v-m^2+m^3+vm}{v} $$\n",
    "$$ b = \\frac{m-2m^2-v+m^3+vm}{v} $$\n",
    "$$ b = \\frac{m^3 -2m^2 + (1+ v)m -v}{v} $$\n"
   ]
  },
  {
   "cell_type": "code",
   "execution_count": 4,
   "metadata": {
    "colab": {
     "autoexec": {
      "startup": false,
      "wait_interval": 0
     },
     "base_uri": "https://localhost:8080/",
     "height": 34,
     "output_extras": [
      {
       "item_id": 1
      }
     ]
    },
    "colab_type": "code",
    "executionInfo": {
     "elapsed": 618,
     "status": "ok",
     "timestamp": 1521034294955,
     "user": {
      "displayName": "Divy Grover",
      "photoUrl": "https://lh3.googleusercontent.com/a/default-user=s128",
      "userId": "104758399712966395862"
     },
     "user_tz": -60
    },
    "id": "I-mNIdpGtJ8m",
    "outputId": "cdf28907-8222-4f7d-8301-207efd2bcaef"
   },
   "outputs": [
    {
     "name": "stdout",
     "output_type": "stream",
     "text": [
      "P_B: 0.01009800000000001\n",
      "P_A_B: 0.009803921568627442\n"
     ]
    }
   ],
   "source": [
    "\n",
    "# Bayes Rule\n",
    "P_A = 0.0001\n",
    "P_B_A = 0.99\n",
    "\n",
    "P_B_A_ = 1 - P_B_A\n",
    "P_A_ = 1 - P_A\n",
    "\n",
    "P_B = P_B_A*P_A + P_B_A_*P_A_\n",
    "print(\"P_B: \" + str(P_B))\n",
    "\n",
    "P_A_B = (P_A*P_B_A)/P_B\n",
    "\n",
    "print(\"P_A_B: \" + str(P_A_B))"
   ]
  },
  {
   "cell_type": "code",
   "execution_count": null,
   "metadata": {},
   "outputs": [],
   "source": []
  },
  {
   "cell_type": "code",
   "execution_count": null,
   "metadata": {},
   "outputs": [],
   "source": []
  },
  {
   "cell_type": "markdown",
   "metadata": {
    "colab_type": "text",
    "id": "498qdw9utJ8t"
   },
   "source": [
    "# Practical problems\n",
    "\n",
    "## [Plotting normal distributed points, 5 points]\n",
    "\n",
    "Generate $1000$ points from 2D multivariate normal\n",
    "distribution having mean $\\mu = \\left[\n",
    "\\begin{array}{c}\n",
    "  1  \\\\\n",
    "  1\n",
    "\\end{array}\n",
    "\\right]$ and covariance $\\Sigma =\n",
    "\\left[\n",
    "  \\begin{array}{rr}\n",
    "    0.1 & -0.05 \\\\\n",
    "    -0.05&  0.2\n",
    "  \\end{array}\n",
    "\\right]\n",
    "$.  Define the function $f({\\bf x}, r) := \\frac{({\\bf x} - \\mu)^{ \\top } * \\Sigma^{-1} *\n",
    "  ({\\bf x} - \\mu) }{ 2} - r $. On a single plot, show the following:\n",
    "* The level sets $f({\\bf x}, r) = 0$ for $r=1, 2, 3$.\n",
    "* Scatter plot of randomly generated points with points lying\n",
    "outside $f({\\bf x} , 3) = 0$ showing in black while points inside shown in\n",
    "blue.\n",
    "* Title of the plot showing how many points lie outside $f({\\bf\n",
    "    x}, 3) = 0$.\n",
    "Submit your final plot as well as your implementation."
   ]
  },
  {
   "cell_type": "code",
   "execution_count": 2,
   "metadata": {
    "colab": {
     "autoexec": {
      "startup": false,
      "wait_interval": 0
     }
    },
    "colab_type": "code",
    "id": "bXTnJdWTtJ8v",
    "scrolled": true
   },
   "outputs": [
    {
     "name": "stdout",
     "output_type": "stream",
     "text": [
      "/Users/brittathornblom1/venv1/bin/python\n"
     ]
    },
    {
     "data": {
      "image/png": "[encoded data removed]",
      "text/plain": [
       "<Figure size 432x288 with 1 Axes>"
      ]
     },
     "metadata": {},
     "output_type": "display_data"
    }
   ],
   "source": [
    "import numpy as np\n",
    "import matplotlib.pyplot as plt\n",
    "import sys\n",
    "\n",
    "print(sys.executable)\n",
    "\n",
    "mu = [1, 1]\n",
    "sigma = [[0.1, -0.05], [-0.05, 0.2]]\n",
    "a = 0.1\n",
    "b = -0.05\n",
    "c = -0.05\n",
    "d = 0.2\n",
    "# sigma_inv_scalar = 1/(a*d-b*c)\n",
    "# sigma_inv_mat = [[0.2, 0.05],[0.05, 0.1]]\n",
    "# sigma_inv = np.multiply(sigma_inv_scalar, sigma_inv_mat)\n",
    "sigma_inv = np.linalg.inv(sigma)\n",
    "\n",
    "hej = np.random.multivariate_normal(mu, sigma, 1000)\n",
    "hejhej = np.transpose(hej)\n",
    "x = hejhej[0]\n",
    "y = hejhej[1]\n",
    "\n",
    "# def f_(r):\n",
    " #   diff_vec = np.transpose(hejhej)-np.asarray(mu)\n",
    "  #  e = np.dot(diff_vec, np.asarray(sigma_inv))\n",
    "   # f = np.dot(e, diff_vec)\n",
    "    \n",
    "    #return f/2\n",
    "\n",
    "def f_(x, y):\n",
    "    diff_vec = np.asarray([x, y])-np.ones(x.shape)\n",
    "    e = np.dot(np.transpose(diff_vec), np.asarray(sigma_inv))\n",
    "    \n",
    "    f = np.transpose(diff_vec)\n",
    "\n",
    "    side_len = x.shape[0]\n",
    "    output = np.empty(x.shape)\n",
    "    for i in range(side_len):\n",
    "        for j in range(side_len):\n",
    "            output[i][j] = np.dot(e[i][j][:], f[i][j][:])\n",
    "    \n",
    "    # Mostly adding the transpose since it seems to make sense\n",
    "    return np.transpose(np.multiply(0.5, output))\n",
    "\n",
    "def f(x, y):\n",
    "    diff_vec = np.asarray([x, y])-np.ones(x.shape)\n",
    "    e = np.dot(np.transpose(diff_vec), np.asarray(sigma_inv))\n",
    "    \n",
    "    f = np.transpose(diff_vec)\n",
    "    \n",
    "    side_len = x.shape[0]\n",
    "    output = np.empty(x.shape)\n",
    "    for i in range(side_len):\n",
    "        output[i] = np.dot(e[i][:], f[i][:])\n",
    "    \n",
    "    # Mostly adding the transpose since it seems to make sense\n",
    "    return np.transpose(np.multiply(0.5, output))\n",
    "\n",
    "# Make these depend on the generated values\n",
    "\n",
    "\n",
    "margin = 0.2\n",
    "y_min = np.amin(y) - margin\n",
    "y_max = np.amax(y) + margin\n",
    "\n",
    "x_min = np.amin(x) - margin\n",
    "x_max = np.amax(x) + margin\n",
    "\n",
    "# print(\"x_min is %f\" % x_min)\n",
    "# print(\"x_max is %f\" % x_max)\n",
    "# print(\"y_min is %f\" % y_min)\n",
    "# print(\"y_max is %f\" % y_max)\n",
    "\n",
    "\n",
    "X_, Y_ = np.meshgrid(np.linspace(x_min, x_max, 100), np.linspace(y_min, y_max, 100))\n",
    "\n",
    "Z = f_(X_, Y_)\n",
    "plt.contour(X_, Y_, Z, levels=[1, 2, 3])\n",
    "\n",
    "# print(f_(hej[0][0], hej[0][1]))\n",
    "\n",
    "# Evaluate f_ in the meshgrid\n",
    "# Plot the levels where it's 1, 2, 3\n",
    "\n",
    "# X, Y = np.meshgrid(hejhej[0], hejhej[1])\n",
    "\n",
    "# Z = list(map(lambda r: f(r), [1, 2, 3]))\n",
    "\n",
    "# h = plt.contourf(X, Y, Z)\n",
    "col = np.where(f(x, y) < 3, 'b', np.where(f(x, y) > 3, 'k', 'k'))\n",
    "plt.scatter(x, y, c=col, s=5, linewidth=0)\n",
    "\n",
    "counter = 0\n",
    "for i in range(1000):\n",
    "    x_ = x[i]\n",
    "    y_ = y[i]\n",
    "    if f(np.asarray([x_]), np.asarray([y_])) > 3:\n",
    "        counter +=1\n",
    "        \n",
    "# print(\"Loop counter is %d\" % counter)\n",
    "\n",
    "output_array = f(x, y)\n",
    "c = np.where(output_array > 3)[0].size\n",
    "\n",
    "# print(\"Smart counter is %d\" % c)\n",
    "plt.title(\"Number of points outside of f(x, 3) is %d\" % c)\n",
    "\n",
    "plt.show()\n",
    "\n"
   ]
  },
  {
   "cell_type": "markdown",
   "metadata": {
    "colab_type": "text",
    "id": "hz3UCqmptJ81"
   },
   "source": [
    "## [Covariance and correlation, 5 points]\n",
    "Load dataset0.txt ($X$) containing 1074 data points\n",
    "each having 12 features related to US schools. Compute the covariance\n",
    "and correlation matrix for $X$. Scale each feature\n",
    "in $X$ between $[0, 1]$ to obtain a new dataset $Y$. Compute the\n",
    "covariance and correlation matrices for $X$ and $Y$, and plot them (e.g. as colormaps).\n",
    "What do you observe? Show a scatter plot of the pair of features in $Y$ having minimum\n",
    "correlation, indicating in the title the feature indices and the\n",
    "correlation value. Submit the plots, comments and your implementation."
   ]
  },
  {
   "cell_type": "code",
   "execution_count": 31,
   "metadata": {
    "colab": {
     "autoexec": {
      "startup": false,
      "wait_interval": 0
     },
     "base_uri": "https://localhost:8080/",
     "height": 197,
     "output_extras": [
      {
       "item_id": 1
      }
     ]
    },
    "colab_type": "code",
    "executionInfo": {
     "elapsed": 855,
     "status": "error",
     "timestamp": 1521466765511,
     "user": {
      "displayName": "Divy Grover",
      "photoUrl": "https://lh3.googleusercontent.com/a/default-user=s128",
      "userId": "104758399712966395862"
     },
     "user_tz": -60
    },
    "id": "nIccfvNGtJ82",
    "outputId": "e53f435e-0ac3-4504-c1d3-83e46c508369"
   },
   "outputs": [
    {
     "name": "stdout",
     "output_type": "stream",
     "text": [
      "(1074,)\n",
      "(1074, 12)\n"
     ]
    }
   ],
   "source": [
    "import numpy as np\n",
    "\n",
    "# You might want to load the data and analyze it first\n",
    "\n",
    "def loadtxt(filename):\n",
    "    file = open(filename) \n",
    "    return file.read()\n",
    "\n",
    "fname = \"dataset0.txt\"\n",
    "\n",
    "with open(fname) as f:\n",
    "    content = f.readlines()\n",
    "# you may also want to remove whitespace characters like `\\n` at the end of each line\n",
    "content = [x.strip() for x in content] \n",
    "data = np.asarray(content)\n",
    "\n",
    "print(data.shape)\n",
    "stringList = list(data[0])\n",
    "\n",
    "# myString is one row in the file\n",
    "def helper(myString):\n",
    "    array = np.asarray(myString.split(\" \"))\n",
    "    reArray = [lambda x: int(x) for x in array]\n",
    "    return np.asarray(reArray)\n",
    "\n",
    "data = [helper(stringie) for stringie in data]\n",
    "\n",
    "print(np.asarray(data).shape)\n",
    "\n"
   ]
  },
  {
   "cell_type": "code",
   "execution_count": 126,
   "metadata": {},
   "outputs": [],
   "source": []
  },
  {
   "cell_type": "code",
   "execution_count": null,
   "metadata": {},
   "outputs": [],
   "source": []
  }
 ],
 "metadata": {
  "colab": {
   "default_view": {},
   "name": "HW0.ipynb",
   "provenance": [],
   "version": "0.3.2",
   "views": {}
  },
  "kernelspec": {
   "display_name": "Python 3",
   "language": "python",
   "name": "python3"
  },
  "language_info": {
   "codemirror_mode": {
    "name": "ipython",
    "version": 3
   },
   "file_extension": ".py",
   "mimetype": "text/x-python",
   "name": "python",
   "nbconvert_exporter": "python",
   "pygments_lexer": "ipython3",
   "version": "3.6.4"
  }
 },
 "nbformat": 4,
 "nbformat_minor": 1
}
